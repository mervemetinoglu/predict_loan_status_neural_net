{
 "cells": [
  {
   "cell_type": "code",
   "execution_count": 24,
   "metadata": {},
   "outputs": [],
   "source": [
    "import numpy as np\n",
    "import pandas as pd\n",
    "import seaborn as sns\n",
    "import matplotlib.pyplot as plt\n",
    "import math\n",
    "from sklearn import preprocessing\n",
    "from sklearn.model_selection import train_test_split\n",
    "from sklearn.preprocessing import StandardScaler\n",
    "\n",
    "import warnings\n",
    "warnings.filterwarnings(\"ignore\")\n",
    "\n",
    "pd.options.mode.chained_assignment = None"
   ]
  },
  {
   "cell_type": "markdown",
   "metadata": {},
   "source": [
    "# KREDİ TAHMİNİ VERİ SETİ\n",
    "\n",
    "Bu veri setinde bankaların müşterilerine vereceği krediler için, kredi çekmek isteyen müşterinin durum analizi yapılması esas alınmıştır. \n",
    "\n",
    "Bu durumda kredi talebinin onaylanıp onaylanmayacağını makine öğrenmesi algoritmaları ile öngörmemizi gerektiren bir sınıflandırma problemi ile karşılaşmaktayız.\n"
   ]
  },
  {
   "cell_type": "markdown",
   "metadata": {},
   "source": [
    "Kullanılan veri setinde :\n",
    "\n",
    "    Loan_ID (Müşteri Numarası),\n",
    "\n",
    "    Gender (Cinsiyet),\n",
    "\n",
    "    Married (Evlilik),\n",
    "\n",
    "    Dependents (Bağımlı Kişi Sayısı),\n",
    "\n",
    "    Education (Eğitim),\n",
    "\n",
    "    Self_Employed (Çalışma Şekli),\n",
    "\n",
    "    ApplicantIncome (Gelir),\n",
    "\n",
    "    CoapplicantIncome (Kefil Geliri),\n",
    "\n",
    "    LoanAmount (Kredi Tutarı),\n",
    "\n",
    "    Loan_Amount_Term (Kredi Vadesi),\n",
    "\n",
    "    Credit_History (Kredi Geçmişi),\n",
    "\n",
    "    Property_Area (Bölge) ,\n",
    "\n",
    "    Loan_Status (Kredi Durumu) değişkenleri yer almaktadır.\n",
    "\n",
    "Değişkenler 12 bağımsız 1 bağımlı değişken olarak ayrılmaktadır."
   ]
  },
  {
   "cell_type": "code",
   "execution_count": 25,
   "metadata": {},
   "outputs": [],
   "source": [
    "ds = pd.read_csv(\"C:\\\\Users\\\\Merve\\\\Nöron Ağları Proje\\\\train_kredi_tahmini.csv\") #csv dosyasi okuma"
   ]
  },
  {
   "cell_type": "markdown",
   "metadata": {},
   "source": [
    "# 1-VERİ SETİ ANALİZİ\n",
    "\n",
    "Veri setinde 13 sütun, 614 kayıt bulunmaktadır.\n",
    "\n",
    "info() fonksiyonu ile içeriğine bakıldığında verilerin object, int64, float64 tiplerinde olduğu görülmektedir;\n",
    "içeriğinde null değerler bulunmaktadır."
   ]
  },
  {
   "cell_type": "code",
   "execution_count": 26,
   "metadata": {},
   "outputs": [
    {
     "name": "stdout",
     "output_type": "stream",
     "text": [
      "<class 'pandas.core.frame.DataFrame'>\n",
      "RangeIndex: 614 entries, 0 to 613\n",
      "Data columns (total 13 columns):\n",
      " #   Column             Non-Null Count  Dtype  \n",
      "---  ------             --------------  -----  \n",
      " 0   Loan_ID            614 non-null    object \n",
      " 1   Gender             601 non-null    object \n",
      " 2   Married            611 non-null    object \n",
      " 3   Dependents         599 non-null    object \n",
      " 4   Education          614 non-null    object \n",
      " 5   Self_Employed      582 non-null    object \n",
      " 6   ApplicantIncome    614 non-null    int64  \n",
      " 7   CoapplicantIncome  614 non-null    float64\n",
      " 8   LoanAmount         592 non-null    float64\n",
      " 9   Loan_Amount_Term   600 non-null    float64\n",
      " 10  Credit_History     564 non-null    float64\n",
      " 11  Property_Area      614 non-null    object \n",
      " 12  Loan_Status        614 non-null    object \n",
      "dtypes: float64(4), int64(1), object(8)\n",
      "memory usage: 62.5+ KB\n"
     ]
    }
   ],
   "source": [
    "ds.info()    #sutunlar hakkinde bilgi"
   ]
  },
  {
   "cell_type": "code",
   "execution_count": 27,
   "metadata": {},
   "outputs": [
    {
     "data": {
      "text/html": [
       "<div>\n",
       "<style scoped>\n",
       "    .dataframe tbody tr th:only-of-type {\n",
       "        vertical-align: middle;\n",
       "    }\n",
       "\n",
       "    .dataframe tbody tr th {\n",
       "        vertical-align: top;\n",
       "    }\n",
       "\n",
       "    .dataframe thead th {\n",
       "        text-align: right;\n",
       "    }\n",
       "</style>\n",
       "<table border=\"1\" class=\"dataframe\">\n",
       "  <thead>\n",
       "    <tr style=\"text-align: right;\">\n",
       "      <th></th>\n",
       "      <th>Loan_ID</th>\n",
       "      <th>Gender</th>\n",
       "      <th>Married</th>\n",
       "      <th>Dependents</th>\n",
       "      <th>Education</th>\n",
       "      <th>Self_Employed</th>\n",
       "      <th>ApplicantIncome</th>\n",
       "      <th>CoapplicantIncome</th>\n",
       "      <th>LoanAmount</th>\n",
       "      <th>Loan_Amount_Term</th>\n",
       "      <th>Credit_History</th>\n",
       "      <th>Property_Area</th>\n",
       "      <th>Loan_Status</th>\n",
       "    </tr>\n",
       "  </thead>\n",
       "  <tbody>\n",
       "    <tr>\n",
       "      <th>0</th>\n",
       "      <td>LP001002</td>\n",
       "      <td>Male</td>\n",
       "      <td>No</td>\n",
       "      <td>0</td>\n",
       "      <td>Graduate</td>\n",
       "      <td>No</td>\n",
       "      <td>5849</td>\n",
       "      <td>0.0</td>\n",
       "      <td>NaN</td>\n",
       "      <td>360.0</td>\n",
       "      <td>1.0</td>\n",
       "      <td>Urban</td>\n",
       "      <td>Y</td>\n",
       "    </tr>\n",
       "    <tr>\n",
       "      <th>1</th>\n",
       "      <td>LP001003</td>\n",
       "      <td>Male</td>\n",
       "      <td>Yes</td>\n",
       "      <td>1</td>\n",
       "      <td>Graduate</td>\n",
       "      <td>No</td>\n",
       "      <td>4583</td>\n",
       "      <td>1508.0</td>\n",
       "      <td>128.0</td>\n",
       "      <td>360.0</td>\n",
       "      <td>1.0</td>\n",
       "      <td>Rural</td>\n",
       "      <td>N</td>\n",
       "    </tr>\n",
       "    <tr>\n",
       "      <th>2</th>\n",
       "      <td>LP001005</td>\n",
       "      <td>Male</td>\n",
       "      <td>Yes</td>\n",
       "      <td>0</td>\n",
       "      <td>Graduate</td>\n",
       "      <td>Yes</td>\n",
       "      <td>3000</td>\n",
       "      <td>0.0</td>\n",
       "      <td>66.0</td>\n",
       "      <td>360.0</td>\n",
       "      <td>1.0</td>\n",
       "      <td>Urban</td>\n",
       "      <td>Y</td>\n",
       "    </tr>\n",
       "    <tr>\n",
       "      <th>3</th>\n",
       "      <td>LP001006</td>\n",
       "      <td>Male</td>\n",
       "      <td>Yes</td>\n",
       "      <td>0</td>\n",
       "      <td>Not Graduate</td>\n",
       "      <td>No</td>\n",
       "      <td>2583</td>\n",
       "      <td>2358.0</td>\n",
       "      <td>120.0</td>\n",
       "      <td>360.0</td>\n",
       "      <td>1.0</td>\n",
       "      <td>Urban</td>\n",
       "      <td>Y</td>\n",
       "    </tr>\n",
       "    <tr>\n",
       "      <th>4</th>\n",
       "      <td>LP001008</td>\n",
       "      <td>Male</td>\n",
       "      <td>No</td>\n",
       "      <td>0</td>\n",
       "      <td>Graduate</td>\n",
       "      <td>No</td>\n",
       "      <td>6000</td>\n",
       "      <td>0.0</td>\n",
       "      <td>141.0</td>\n",
       "      <td>360.0</td>\n",
       "      <td>1.0</td>\n",
       "      <td>Urban</td>\n",
       "      <td>Y</td>\n",
       "    </tr>\n",
       "  </tbody>\n",
       "</table>\n",
       "</div>"
      ],
      "text/plain": [
       "    Loan_ID Gender Married Dependents     Education Self_Employed  \\\n",
       "0  LP001002   Male      No          0      Graduate            No   \n",
       "1  LP001003   Male     Yes          1      Graduate            No   \n",
       "2  LP001005   Male     Yes          0      Graduate           Yes   \n",
       "3  LP001006   Male     Yes          0  Not Graduate            No   \n",
       "4  LP001008   Male      No          0      Graduate            No   \n",
       "\n",
       "   ApplicantIncome  CoapplicantIncome  LoanAmount  Loan_Amount_Term  \\\n",
       "0             5849                0.0         NaN             360.0   \n",
       "1             4583             1508.0       128.0             360.0   \n",
       "2             3000                0.0        66.0             360.0   \n",
       "3             2583             2358.0       120.0             360.0   \n",
       "4             6000                0.0       141.0             360.0   \n",
       "\n",
       "   Credit_History Property_Area Loan_Status  \n",
       "0             1.0         Urban           Y  \n",
       "1             1.0         Rural           N  \n",
       "2             1.0         Urban           Y  \n",
       "3             1.0         Urban           Y  \n",
       "4             1.0         Urban           Y  "
      ]
     },
     "execution_count": 27,
     "metadata": {},
     "output_type": "execute_result"
    }
   ],
   "source": [
    "ds.head() "
   ]
  },
  {
   "cell_type": "code",
   "execution_count": 28,
   "metadata": {},
   "outputs": [
    {
     "data": {
      "text/plain": [
       "(614, 13)"
      ]
     },
     "execution_count": 28,
     "metadata": {},
     "output_type": "execute_result"
    }
   ],
   "source": [
    "ds.shape  #(kayit sayisi,sutun sayisi)"
   ]
  },
  {
   "cell_type": "code",
   "execution_count": 29,
   "metadata": {
    "scrolled": true
   },
   "outputs": [
    {
     "data": {
      "text/html": [
       "<div>\n",
       "<style scoped>\n",
       "    .dataframe tbody tr th:only-of-type {\n",
       "        vertical-align: middle;\n",
       "    }\n",
       "\n",
       "    .dataframe tbody tr th {\n",
       "        vertical-align: top;\n",
       "    }\n",
       "\n",
       "    .dataframe thead th {\n",
       "        text-align: right;\n",
       "    }\n",
       "</style>\n",
       "<table border=\"1\" class=\"dataframe\">\n",
       "  <thead>\n",
       "    <tr style=\"text-align: right;\">\n",
       "      <th></th>\n",
       "      <th>ApplicantIncome</th>\n",
       "      <th>CoapplicantIncome</th>\n",
       "      <th>LoanAmount</th>\n",
       "      <th>Loan_Amount_Term</th>\n",
       "      <th>Credit_History</th>\n",
       "    </tr>\n",
       "  </thead>\n",
       "  <tbody>\n",
       "    <tr>\n",
       "      <th>count</th>\n",
       "      <td>614.000000</td>\n",
       "      <td>614.000000</td>\n",
       "      <td>592.000000</td>\n",
       "      <td>600.00000</td>\n",
       "      <td>564.000000</td>\n",
       "    </tr>\n",
       "    <tr>\n",
       "      <th>mean</th>\n",
       "      <td>5403.459283</td>\n",
       "      <td>1621.245798</td>\n",
       "      <td>146.412162</td>\n",
       "      <td>342.00000</td>\n",
       "      <td>0.842199</td>\n",
       "    </tr>\n",
       "    <tr>\n",
       "      <th>std</th>\n",
       "      <td>6109.041673</td>\n",
       "      <td>2926.248369</td>\n",
       "      <td>85.587325</td>\n",
       "      <td>65.12041</td>\n",
       "      <td>0.364878</td>\n",
       "    </tr>\n",
       "    <tr>\n",
       "      <th>min</th>\n",
       "      <td>150.000000</td>\n",
       "      <td>0.000000</td>\n",
       "      <td>9.000000</td>\n",
       "      <td>12.00000</td>\n",
       "      <td>0.000000</td>\n",
       "    </tr>\n",
       "    <tr>\n",
       "      <th>25%</th>\n",
       "      <td>2877.500000</td>\n",
       "      <td>0.000000</td>\n",
       "      <td>100.000000</td>\n",
       "      <td>360.00000</td>\n",
       "      <td>1.000000</td>\n",
       "    </tr>\n",
       "    <tr>\n",
       "      <th>50%</th>\n",
       "      <td>3812.500000</td>\n",
       "      <td>1188.500000</td>\n",
       "      <td>128.000000</td>\n",
       "      <td>360.00000</td>\n",
       "      <td>1.000000</td>\n",
       "    </tr>\n",
       "    <tr>\n",
       "      <th>75%</th>\n",
       "      <td>5795.000000</td>\n",
       "      <td>2297.250000</td>\n",
       "      <td>168.000000</td>\n",
       "      <td>360.00000</td>\n",
       "      <td>1.000000</td>\n",
       "    </tr>\n",
       "    <tr>\n",
       "      <th>max</th>\n",
       "      <td>81000.000000</td>\n",
       "      <td>41667.000000</td>\n",
       "      <td>700.000000</td>\n",
       "      <td>480.00000</td>\n",
       "      <td>1.000000</td>\n",
       "    </tr>\n",
       "  </tbody>\n",
       "</table>\n",
       "</div>"
      ],
      "text/plain": [
       "       ApplicantIncome  CoapplicantIncome  LoanAmount  Loan_Amount_Term  \\\n",
       "count       614.000000         614.000000  592.000000         600.00000   \n",
       "mean       5403.459283        1621.245798  146.412162         342.00000   \n",
       "std        6109.041673        2926.248369   85.587325          65.12041   \n",
       "min         150.000000           0.000000    9.000000          12.00000   \n",
       "25%        2877.500000           0.000000  100.000000         360.00000   \n",
       "50%        3812.500000        1188.500000  128.000000         360.00000   \n",
       "75%        5795.000000        2297.250000  168.000000         360.00000   \n",
       "max       81000.000000       41667.000000  700.000000         480.00000   \n",
       "\n",
       "       Credit_History  \n",
       "count      564.000000  \n",
       "mean         0.842199  \n",
       "std          0.364878  \n",
       "min          0.000000  \n",
       "25%          1.000000  \n",
       "50%          1.000000  \n",
       "75%          1.000000  \n",
       "max          1.000000  "
      ]
     },
     "execution_count": 29,
     "metadata": {},
     "output_type": "execute_result"
    }
   ],
   "source": [
    "ds.describe()   #numeric olan sutunların istatistiksel verileri"
   ]
  },
  {
   "cell_type": "markdown",
   "metadata": {},
   "source": [
    "# 2-PREPROCESS (ÖN İŞLEME AŞAMASI)\n",
    "\n",
    "Tekrarlanan veri kontrolünde herhangi bir tekrar eden satır bulunmamıştır.\n",
    "\n",
    "149 hücrede Nan değer tespit edilmiştir."
   ]
  },
  {
   "cell_type": "code",
   "execution_count": 30,
   "metadata": {},
   "outputs": [
    {
     "data": {
      "text/plain": [
       "0"
      ]
     },
     "execution_count": 30,
     "metadata": {},
     "output_type": "execute_result"
    }
   ],
   "source": [
    "ds.duplicated().sum()   #tekrarlanan satır var mi kontrol"
   ]
  },
  {
   "cell_type": "code",
   "execution_count": 31,
   "metadata": {},
   "outputs": [
    {
     "name": "stdout",
     "output_type": "stream",
     "text": [
      "Loan_ID               0\n",
      "Gender               13\n",
      "Married               3\n",
      "Dependents           15\n",
      "Education             0\n",
      "Self_Employed        32\n",
      "ApplicantIncome       0\n",
      "CoapplicantIncome     0\n",
      "LoanAmount           22\n",
      "Loan_Amount_Term     14\n",
      "Credit_History       50\n",
      "Property_Area         0\n",
      "Loan_Status           0\n",
      "dtype: int64\n",
      "Toplam Nan hucre sayisi : 149\n"
     ]
    }
   ],
   "source": [
    "print(ds.isnull().sum()) #null olan hücre sayisi her bir sutun icin\n",
    "print(\"Toplam Nan hucre sayisi : {}\".format(ds.isnull().sum().sum()))  "
   ]
  },
  {
   "cell_type": "code",
   "execution_count": 32,
   "metadata": {},
   "outputs": [
    {
     "data": {
      "text/html": [
       "<div>\n",
       "<style scoped>\n",
       "    .dataframe tbody tr th:only-of-type {\n",
       "        vertical-align: middle;\n",
       "    }\n",
       "\n",
       "    .dataframe tbody tr th {\n",
       "        vertical-align: top;\n",
       "    }\n",
       "\n",
       "    .dataframe thead th {\n",
       "        text-align: right;\n",
       "    }\n",
       "</style>\n",
       "<table border=\"1\" class=\"dataframe\">\n",
       "  <thead>\n",
       "    <tr style=\"text-align: right;\">\n",
       "      <th></th>\n",
       "      <th>Eksik Degerler</th>\n",
       "      <th>% Degeri</th>\n",
       "    </tr>\n",
       "  </thead>\n",
       "  <tbody>\n",
       "    <tr>\n",
       "      <th>Loan_ID</th>\n",
       "      <td>0</td>\n",
       "      <td>0.000000</td>\n",
       "    </tr>\n",
       "    <tr>\n",
       "      <th>Gender</th>\n",
       "      <td>13</td>\n",
       "      <td>2.117264</td>\n",
       "    </tr>\n",
       "    <tr>\n",
       "      <th>Married</th>\n",
       "      <td>3</td>\n",
       "      <td>0.488599</td>\n",
       "    </tr>\n",
       "    <tr>\n",
       "      <th>Dependents</th>\n",
       "      <td>15</td>\n",
       "      <td>2.442997</td>\n",
       "    </tr>\n",
       "    <tr>\n",
       "      <th>Education</th>\n",
       "      <td>0</td>\n",
       "      <td>0.000000</td>\n",
       "    </tr>\n",
       "    <tr>\n",
       "      <th>Self_Employed</th>\n",
       "      <td>32</td>\n",
       "      <td>5.211726</td>\n",
       "    </tr>\n",
       "    <tr>\n",
       "      <th>ApplicantIncome</th>\n",
       "      <td>0</td>\n",
       "      <td>0.000000</td>\n",
       "    </tr>\n",
       "    <tr>\n",
       "      <th>CoapplicantIncome</th>\n",
       "      <td>0</td>\n",
       "      <td>0.000000</td>\n",
       "    </tr>\n",
       "    <tr>\n",
       "      <th>LoanAmount</th>\n",
       "      <td>22</td>\n",
       "      <td>3.583062</td>\n",
       "    </tr>\n",
       "    <tr>\n",
       "      <th>Loan_Amount_Term</th>\n",
       "      <td>14</td>\n",
       "      <td>2.280130</td>\n",
       "    </tr>\n",
       "    <tr>\n",
       "      <th>Credit_History</th>\n",
       "      <td>50</td>\n",
       "      <td>8.143322</td>\n",
       "    </tr>\n",
       "    <tr>\n",
       "      <th>Property_Area</th>\n",
       "      <td>0</td>\n",
       "      <td>0.000000</td>\n",
       "    </tr>\n",
       "    <tr>\n",
       "      <th>Loan_Status</th>\n",
       "      <td>0</td>\n",
       "      <td>0.000000</td>\n",
       "    </tr>\n",
       "  </tbody>\n",
       "</table>\n",
       "</div>"
      ],
      "text/plain": [
       "                   Eksik Degerler  % Degeri\n",
       "Loan_ID                         0  0.000000\n",
       "Gender                         13  2.117264\n",
       "Married                         3  0.488599\n",
       "Dependents                     15  2.442997\n",
       "Education                       0  0.000000\n",
       "Self_Employed                  32  5.211726\n",
       "ApplicantIncome                 0  0.000000\n",
       "CoapplicantIncome               0  0.000000\n",
       "LoanAmount                     22  3.583062\n",
       "Loan_Amount_Term               14  2.280130\n",
       "Credit_History                 50  8.143322\n",
       "Property_Area                   0  0.000000\n",
       "Loan_Status                     0  0.000000"
      ]
     },
     "execution_count": 32,
     "metadata": {},
     "output_type": "execute_result"
    }
   ],
   "source": [
    "def missingValues(ds):\n",
    "    missingValue=ds.isnull().sum()\n",
    "    missingValuePercent=100*ds.isnull().sum()/len(ds)\n",
    "    missingValueTab=pd.concat([missingValue,missingValuePercent],axis=1)\n",
    "    missingValueTable=missingValueTab.rename(\n",
    "    columns ={0:'Eksik Degerler',1:'% Degeri'})\n",
    "    return missingValueTable\n",
    "\n",
    "missingValues(ds)"
   ]
  },
  {
   "cell_type": "markdown",
   "metadata": {},
   "source": [
    "# 2.1 EKSİK DEĞERLERİN KALDIRILMASI & DOLDURULMASI\n",
    "\n",
    "Gender ve Married sütununda Nan değer olan satırlar veri setinden kaldırılmıştır.\n",
    "\n",
    "Self_Employed, Dependents, Loan_Status sütunlarındaki değerler replace metodu ile numeric hale gelmiştir.\n",
    "\n",
    "Veri setindeki kalan Nan değerler ilgili sütunun medyan değerleri ile doldurulmuştur."
   ]
  },
  {
   "cell_type": "code",
   "execution_count": 33,
   "metadata": {},
   "outputs": [],
   "source": [
    "ds_crop = ds.dropna(subset=[\"Gender\",\"Married\"])     #gender ve married verileri bos olan satirlar silindi"
   ]
  },
  {
   "cell_type": "code",
   "execution_count": 34,
   "metadata": {},
   "outputs": [],
   "source": [
    "ds_crop[['Self_Employed']]=ds_crop[['Self_Employed']].replace('No',0)\n",
    "ds_crop[['Self_Employed']]=ds_crop[['Self_Employed']].replace('Yes',1)\n",
    "\n",
    "ds_crop[['Dependents']]=ds_crop[['Dependents']].replace('0',0)\n",
    "ds_crop[['Dependents']]=ds_crop[['Dependents']].replace('1',1)\n",
    "ds_crop[['Dependents']]=ds_crop[['Dependents']].replace('2',2)\n",
    "ds_crop[['Dependents']]=ds_crop[['Dependents']].replace('3+',3)\n",
    "\n",
    "ds_crop[['Loan_Status']]=ds_crop[['Loan_Status']].replace('N',0)\n",
    "ds_crop[['Loan_Status']]=ds_crop[['Loan_Status']].replace('Y',1)\n",
    "#Maskeleme yapiyorum. Ilgili sutun adlarındaki ilgili degerleri degistiriyorum boylece verileri numeric yapmis oluyorum"
   ]
  },
  {
   "cell_type": "code",
   "execution_count": 35,
   "metadata": {},
   "outputs": [],
   "source": [
    "ds_fill=ds_crop.fillna(ds_crop.median()) #Nan hucreler median degere gore dolduruldu"
   ]
  },
  {
   "cell_type": "code",
   "execution_count": 36,
   "metadata": {},
   "outputs": [
    {
     "data": {
      "text/html": [
       "<div>\n",
       "<style scoped>\n",
       "    .dataframe tbody tr th:only-of-type {\n",
       "        vertical-align: middle;\n",
       "    }\n",
       "\n",
       "    .dataframe tbody tr th {\n",
       "        vertical-align: top;\n",
       "    }\n",
       "\n",
       "    .dataframe thead th {\n",
       "        text-align: right;\n",
       "    }\n",
       "</style>\n",
       "<table border=\"1\" class=\"dataframe\">\n",
       "  <thead>\n",
       "    <tr style=\"text-align: right;\">\n",
       "      <th></th>\n",
       "      <th>Eksik Degerler</th>\n",
       "      <th>% Degeri</th>\n",
       "    </tr>\n",
       "  </thead>\n",
       "  <tbody>\n",
       "    <tr>\n",
       "      <th>Loan_ID</th>\n",
       "      <td>0</td>\n",
       "      <td>0.0</td>\n",
       "    </tr>\n",
       "    <tr>\n",
       "      <th>Gender</th>\n",
       "      <td>0</td>\n",
       "      <td>0.0</td>\n",
       "    </tr>\n",
       "    <tr>\n",
       "      <th>Married</th>\n",
       "      <td>0</td>\n",
       "      <td>0.0</td>\n",
       "    </tr>\n",
       "    <tr>\n",
       "      <th>Dependents</th>\n",
       "      <td>0</td>\n",
       "      <td>0.0</td>\n",
       "    </tr>\n",
       "    <tr>\n",
       "      <th>Education</th>\n",
       "      <td>0</td>\n",
       "      <td>0.0</td>\n",
       "    </tr>\n",
       "    <tr>\n",
       "      <th>Self_Employed</th>\n",
       "      <td>0</td>\n",
       "      <td>0.0</td>\n",
       "    </tr>\n",
       "    <tr>\n",
       "      <th>ApplicantIncome</th>\n",
       "      <td>0</td>\n",
       "      <td>0.0</td>\n",
       "    </tr>\n",
       "    <tr>\n",
       "      <th>CoapplicantIncome</th>\n",
       "      <td>0</td>\n",
       "      <td>0.0</td>\n",
       "    </tr>\n",
       "    <tr>\n",
       "      <th>LoanAmount</th>\n",
       "      <td>0</td>\n",
       "      <td>0.0</td>\n",
       "    </tr>\n",
       "    <tr>\n",
       "      <th>Loan_Amount_Term</th>\n",
       "      <td>0</td>\n",
       "      <td>0.0</td>\n",
       "    </tr>\n",
       "    <tr>\n",
       "      <th>Credit_History</th>\n",
       "      <td>0</td>\n",
       "      <td>0.0</td>\n",
       "    </tr>\n",
       "    <tr>\n",
       "      <th>Property_Area</th>\n",
       "      <td>0</td>\n",
       "      <td>0.0</td>\n",
       "    </tr>\n",
       "    <tr>\n",
       "      <th>Loan_Status</th>\n",
       "      <td>0</td>\n",
       "      <td>0.0</td>\n",
       "    </tr>\n",
       "  </tbody>\n",
       "</table>\n",
       "</div>"
      ],
      "text/plain": [
       "                   Eksik Degerler  % Degeri\n",
       "Loan_ID                         0       0.0\n",
       "Gender                          0       0.0\n",
       "Married                         0       0.0\n",
       "Dependents                      0       0.0\n",
       "Education                       0       0.0\n",
       "Self_Employed                   0       0.0\n",
       "ApplicantIncome                 0       0.0\n",
       "CoapplicantIncome               0       0.0\n",
       "LoanAmount                      0       0.0\n",
       "Loan_Amount_Term                0       0.0\n",
       "Credit_History                  0       0.0\n",
       "Property_Area                   0       0.0\n",
       "Loan_Status                     0       0.0"
      ]
     },
     "execution_count": 36,
     "metadata": {},
     "output_type": "execute_result"
    }
   ],
   "source": [
    "missingValues(ds_fill)   #Nan veri kalmadi"
   ]
  },
  {
   "cell_type": "code",
   "execution_count": 37,
   "metadata": {},
   "outputs": [
    {
     "name": "stdout",
     "output_type": "stream",
     "text": [
      "<class 'pandas.core.frame.DataFrame'>\n",
      "Int64Index: 598 entries, 0 to 613\n",
      "Data columns (total 13 columns):\n",
      " #   Column             Non-Null Count  Dtype  \n",
      "---  ------             --------------  -----  \n",
      " 0   Loan_ID            598 non-null    object \n",
      " 1   Gender             598 non-null    object \n",
      " 2   Married            598 non-null    object \n",
      " 3   Dependents         598 non-null    float64\n",
      " 4   Education          598 non-null    object \n",
      " 5   Self_Employed      598 non-null    float64\n",
      " 6   ApplicantIncome    598 non-null    int64  \n",
      " 7   CoapplicantIncome  598 non-null    float64\n",
      " 8   LoanAmount         598 non-null    float64\n",
      " 9   Loan_Amount_Term   598 non-null    float64\n",
      " 10  Credit_History     598 non-null    float64\n",
      " 11  Property_Area      598 non-null    object \n",
      " 12  Loan_Status        598 non-null    int64  \n",
      "dtypes: float64(6), int64(2), object(5)\n",
      "memory usage: 65.4+ KB\n"
     ]
    }
   ],
   "source": [
    "ds_fill.info()"
   ]
  },
  {
   "cell_type": "markdown",
   "metadata": {},
   "source": [
    "# 2.2 VERİ TİPİ DÖNÜŞÜMÜ\n",
    "\n",
    "Replace fonksiyonu ile içerikleri değişen sütunların veri tipleri int64 yapılmıştır."
   ]
  },
  {
   "cell_type": "code",
   "execution_count": 38,
   "metadata": {},
   "outputs": [],
   "source": [
    "ds_fill['Dependents'] = ds_fill['Dependents'].astype('int64')\n",
    "ds_fill['Self_Employed'] = ds_fill['Self_Employed'].astype('int64')\n",
    "ds_fill['CoapplicantIncome'] = ds_fill['CoapplicantIncome'].astype('int64')\n",
    "ds_fill['LoanAmount'] = ds_fill['LoanAmount'].astype('int64')\n",
    "ds_fill['Loan_Amount_Term'] = ds_fill['Loan_Amount_Term'].astype('int64')\n",
    "ds_fill['Credit_History'] = ds_fill['Credit_History'].astype('int64')"
   ]
  },
  {
   "cell_type": "markdown",
   "metadata": {},
   "source": [
    "Nan değer bulunan satırlara gerekli işlemlerin yapılması ardından veri setinde 598 kayıt kalmıştır"
   ]
  },
  {
   "cell_type": "code",
   "execution_count": 39,
   "metadata": {},
   "outputs": [
    {
     "data": {
      "text/plain": [
       "(598, 13)"
      ]
     },
     "execution_count": 39,
     "metadata": {},
     "output_type": "execute_result"
    }
   ],
   "source": [
    "ds_fill.shape  #(kayit sayisi,sutun sayisi)"
   ]
  },
  {
   "cell_type": "markdown",
   "metadata": {},
   "source": [
    "# 2.3 AYKIRI DEĞER BOXPLOT GRAFİKLERİ\n",
    "\n",
    "Kutu grafiği gösteriminde aykırı değerler nokta ile gösterilirken veride yoğun olarak bulunan değerler kutular halinde gösterilmektedir. \n",
    "\n",
    "Aykırı değer analizine bakıldığında bazı aykırı değerlerin bulunduğu görülmüş fakat bu değerler algoritma sonucuna etki edebileceği için değerli görülüp herhangi bir işlem uygulanmamıştır."
   ]
  },
  {
   "cell_type": "code",
   "execution_count": 40,
   "metadata": {},
   "outputs": [
    {
     "data": {
      "text/plain": [
       "<matplotlib.axes._subplots.AxesSubplot at 0x27cb706d4c8>"
      ]
     },
     "execution_count": 40,
     "metadata": {},
     "output_type": "execute_result"
    },
    {
     "data": {
      "image/png": "[encoded data removed]",
      "text/plain": [
       "<Figure size 1440x1080 with 5 Axes>"
      ]
     },
     "metadata": {},
     "output_type": "display_data"
    }
   ],
   "source": [
    "sns.set(style=\"whitegrid\",font_scale=1.2,palette='Set2')\n",
    "plt.subplots(figsize=(20,15))\n",
    "plt.subplot(3,2,1)\n",
    "sns.boxplot(x='Loan_Status', y='Dependents',data=ds_fill)\n",
    "plt.subplot(3,2,2)\n",
    "sns.boxplot(x='Loan_Status', y='ApplicantIncome',data=ds_fill)\n",
    "plt.subplot(3,2,3)\n",
    "sns.boxplot(x='Loan_Status', y='CoapplicantIncome',data=ds_fill)\n",
    "plt.subplot(3,2,4)\n",
    "sns.boxplot(x='Loan_Status', y='LoanAmount',data=ds_fill)\n",
    "plt.subplot(3,2,5)\n",
    "sns.boxplot(x='Loan_Status', y='Loan_Amount_Term',data=ds_fill)"
   ]
  },
  {
   "cell_type": "markdown",
   "metadata": {},
   "source": [
    "# 2.4 VERİ SETİ DENGESİZLİĞİ KONTROLÜ\n",
    "\n",
    "598 kayıt bulunan veri setinde hedef değişkeninde,\n",
    "\n",
    "              0 için 187 kayıt,\n",
    "              1 için 411 kayıt bulunmaktadır.\n",
    "\n",
    "Bu değerlerin veri setinin %31 ve %69'lik oranlarına denk gelmesi veri setinde dengesizlik olduğunun göstergesidir."
   ]
  },
  {
   "cell_type": "code",
   "execution_count": 41,
   "metadata": {},
   "outputs": [
    {
     "name": "stdout",
     "output_type": "stream",
     "text": [
      "1    411\n",
      "0    187\n",
      "Name: Loan_Status, dtype: int64\n",
      "1    0.687291\n",
      "0    0.312709\n",
      "Name: Loan_Status, dtype: float64\n",
      "AxesSubplot(0.125,0.125;0.775x0.755)\n"
     ]
    },
    {
     "data": {
      "image/png": "[encoded data removed]",
      "text/plain": [
       "<Figure size 432x288 with 1 Axes>"
      ]
     },
     "metadata": {},
     "output_type": "display_data"
    }
   ],
   "source": [
    "print(ds_fill['Loan_Status'].value_counts())\n",
    "print(ds_fill['Loan_Status'].value_counts()/np.float(len(ds_fill)))\n",
    "print(ds_fill['Loan_Status'].value_counts().plot.barh())"
   ]
  },
  {
   "cell_type": "code",
   "execution_count": 42,
   "metadata": {},
   "outputs": [],
   "source": [
    "#Bağımsız değişkenler ve hedef değişkeni ayriliyor\n",
    "features = ['Dependents','Self_Employed','ApplicantIncome','CoapplicantIncome','LoanAmount','Loan_Amount_Term','Credit_History']\n",
    "ds_x = ds_fill.loc[:,features]\n",
    "ds_y = ds_fill.loc[:,['Loan_Status']]"
   ]
  },
  {
   "cell_type": "markdown",
   "metadata": {},
   "source": [
    "# 2.7 STANDARDİZASYON\n",
    "\n",
    "Standardizasyon işlemi, değişkenlerin standart bir normal dağılım özelliklerine sahip olacak şekilde yeniden\n",
    "ölçeklendirilmesidir.\n",
    "\n",
    "Veri setinin,\n",
    "              \n",
    "             %60'ı train(eğitim) set\n",
    "             \n",
    "             %40'ı test set olarak bölünmüştür. \n",
    "Bu bölünme işleminde random_state parametresi 44 olarak belirlenmiştir."
   ]
  },
  {
   "cell_type": "code",
   "execution_count": 43,
   "metadata": {},
   "outputs": [],
   "source": [
    "ds_x = StandardScaler().fit_transform(ds_x)"
   ]
  },
  {
   "cell_type": "code",
   "execution_count": 44,
   "metadata": {},
   "outputs": [],
   "source": [
    "import KrediNN as model\n",
    "\n",
    "X_train, X_test, y_train, y_test = train_test_split(np.array(ds_x), np.array(ds_y), test_size = 0.4, random_state = 44)\n",
    "model = model.KrediNN(X_train.shape[1])"
   ]
  },
  {
   "cell_type": "code",
   "execution_count": 45,
   "metadata": {},
   "outputs": [
    {
     "name": "stdout",
     "output_type": "stream",
     "text": [
      "Epoch 0 loss: 0.209\n",
      "Epoch 10 loss: 0.162\n",
      "Epoch 20 loss: 0.160\n",
      "Epoch 30 loss: 0.158\n",
      "Epoch 40 loss: 0.156\n",
      "Epoch 50 loss: 0.154\n",
      "Epoch 60 loss: 0.152\n",
      "Epoch 70 loss: 0.151\n",
      "Epoch 80 loss: 0.150\n",
      "Epoch 90 loss: 0.150\n",
      "Epoch 100 loss: 0.150\n",
      "Epoch 110 loss: 0.150\n",
      "Epoch 120 loss: 0.149\n",
      "Epoch 130 loss: 0.149\n",
      "Epoch 140 loss: 0.149\n",
      "Epoch 150 loss: 0.149\n",
      "Epoch 160 loss: 0.149\n",
      "Epoch 170 loss: 0.149\n",
      "Epoch 180 loss: 0.149\n",
      "Epoch 190 loss: 0.149\n",
      "Epoch 200 loss: 0.149\n",
      "Epoch 210 loss: 0.149\n",
      "Epoch 220 loss: 0.149\n",
      "Epoch 230 loss: 0.149\n",
      "Epoch 240 loss: 0.149\n",
      "Epoch 250 loss: 0.149\n",
      "Epoch 260 loss: 0.149\n",
      "Epoch 270 loss: 0.149\n",
      "Epoch 280 loss: 0.149\n",
      "Epoch 290 loss: 0.149\n",
      "Epoch 300 loss: 0.149\n",
      "Epoch 310 loss: 0.149\n",
      "Epoch 320 loss: 0.149\n",
      "Epoch 330 loss: 0.149\n",
      "Epoch 340 loss: 0.149\n",
      "Epoch 350 loss: 0.149\n",
      "Epoch 360 loss: 0.149\n",
      "Epoch 370 loss: 0.149\n",
      "Epoch 380 loss: 0.149\n",
      "Epoch 390 loss: 0.149\n",
      "Epoch 400 loss: 0.149\n",
      "Epoch 410 loss: 0.149\n",
      "Epoch 420 loss: 0.149\n",
      "Epoch 430 loss: 0.149\n",
      "Epoch 440 loss: 0.149\n",
      "Epoch 450 loss: 0.149\n",
      "Epoch 460 loss: 0.149\n",
      "Epoch 470 loss: 0.149\n",
      "Epoch 480 loss: 0.149\n",
      "Epoch 490 loss: 0.149\n"
     ]
    }
   ],
   "source": [
    "model.train(X_train,y_train)"
   ]
  },
  {
   "cell_type": "code",
   "execution_count": 46,
   "metadata": {},
   "outputs": [
    {
     "name": "stdout",
     "output_type": "stream",
     "text": [
      "Doğru tahmin:  204\n",
      "Yanlış tahmin:  36\n",
      "tahmin:  0.85\n"
     ]
    }
   ],
   "source": [
    "true = 0\n",
    "false = 0\n",
    "for i in range(X_test.shape[0]):\n",
    "    t = model.test(X_test[i])\n",
    "    if round(t[0]) == y_test[i]:\n",
    "        true += 1\n",
    "    else :\n",
    "        false += 1\n",
    "\n",
    "print(\"Doğru tahmin: \", true)\n",
    "print(\"Yanlış tahmin: \", false)\n",
    "print(\"tahmin: \", true/(true+false))"
   ]
  }
 ],
 "metadata": {
  "kernelspec": {
   "display_name": "Python 3",
   "language": "python",
   "name": "python3"
  },
  "language_info": {
   "codemirror_mode": {
    "name": "ipython",
    "version": 3
   },
   "file_extension": ".py",
   "mimetype": "text/x-python",
   "name": "python",
   "nbconvert_exporter": "python",
   "pygments_lexer": "ipython3",
   "version": "3.7.6"
  }
 },
 "nbformat": 4,
 "nbformat_minor": 4
}
